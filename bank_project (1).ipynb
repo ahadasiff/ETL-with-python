{
 "cells": [
  {
   "cell_type": "code",
   "execution_count": 59,
   "id": "552b3924-e987-451b-8951-9b0326704bec",
   "metadata": {},
   "outputs": [
    {
     "name": "stdout",
     "output_type": "stream",
     "text": [
      "Collecting icecream\n",
      "  Downloading icecream-2.1.3-py2.py3-none-any.whl.metadata (1.4 kB)\n",
      "Requirement already satisfied: colorama>=0.3.9 in c:\\users\\atif\\anaconda3\\lib\\site-packages (from icecream) (0.4.6)\n",
      "Requirement already satisfied: pygments>=2.2.0 in c:\\users\\atif\\anaconda3\\lib\\site-packages (from icecream) (2.15.1)\n",
      "Requirement already satisfied: executing>=0.3.1 in c:\\users\\atif\\anaconda3\\lib\\site-packages (from icecream) (0.8.3)\n",
      "Requirement already satisfied: asttokens>=2.0.1 in c:\\users\\atif\\anaconda3\\lib\\site-packages (from icecream) (2.0.5)\n",
      "Requirement already satisfied: six in c:\\users\\atif\\anaconda3\\lib\\site-packages (from asttokens>=2.0.1->icecream) (1.16.0)\n",
      "Downloading icecream-2.1.3-py2.py3-none-any.whl (8.4 kB)\n",
      "Installing collected packages: icecream\n",
      "Successfully installed icecream-2.1.3\n"
     ]
    }
   ],
   "source": [
    "!pip install icecream"
   ]
  },
  {
   "cell_type": "code",
   "execution_count": 61,
   "id": "32b4bb0d-dfb7-49c3-bad1-49961fba4511",
   "metadata": {},
   "outputs": [],
   "source": [
    "from io import StringIO # extract\n",
    "import requests        # extract #kisi bhi server id say data upload and data get karsaktay hai operations saray\n",
    "from bs4 import BeautifulSoup  # extract # htmal say related apna kaam set karsaktay hai its a library \n",
    "import pandas as pd # transformation\n",
    "import sqlite3  # load\n",
    "from datetime import datetime # for time of log\n",
    "from icecream import ic"
   ]
  },
  {
   "cell_type": "code",
   "execution_count": 63,
   "id": "1d4a72d5-7a71-43f1-a1bc-5d98e73232b3",
   "metadata": {},
   "outputs": [
    {
     "name": "stdout",
     "output_type": "stream",
     "text": [
      "190\n",
      "270\n",
      "166.66666666666666\n",
      "180\n",
      "290\n",
      "171.0\n",
      "170\n",
      "310\n",
      "174.0\n",
      "160\n",
      "330\n",
      "175.66666666666666\n"
     ]
    }
   ],
   "source": [
    "a=200\n",
    "b=250\n",
    "c=300\n",
    "\n",
    "for i in range(1,5):\n",
    "    ans= a*b/c\n",
    "    a-=10\n",
    "    b+=20\n",
    "\n",
    "    print(a)\n",
    "    print(b)\n",
    "    print(ans)"
   ]
  },
  {
   "cell_type": "code",
   "execution_count": 65,
   "id": "7a9f50c6-6c0a-40d0-926c-4aa27bb22854",
   "metadata": {},
   "outputs": [
    {
     "name": "stderr",
     "output_type": "stream",
     "text": [
      "ic| Error: Failed to access the underlying source code for analysis. Was ic() invoked in a REPL (e.g. from the command line), a frozen application (e.g. packaged with PyInstaller), or did the underlying source code change during execution?\n",
      "ic| Error: Failed to access the underlying source code for analysis. Was ic() invoked in a REPL (e.g. from the command line), a frozen application (e.g. packaged with PyInstaller), or did the underlying source code change during execution?\n",
      "ic| Error: Failed to access the underlying source code for analysis. Was ic() invoked in a REPL (e.g. from the command line), a frozen application (e.g. packaged with PyInstaller), or did the underlying source code change during execution?\n",
      "ic| Error: Failed to access the underlying source code for analysis. Was ic() invoked in a REPL (e.g. from the command line), a frozen application (e.g. packaged with PyInstaller), or did the underlying source code change during execution?\n"
     ]
    },
    {
     "name": "stdout",
     "output_type": "stream",
     "text": [
      "175.66666666666666\n",
      "160\n",
      "330\n"
     ]
    }
   ],
   "source": [
    "a=200\n",
    "b=250\n",
    "c=300\n",
    "for i in range(1,5):\n",
    "    ans= ic(a*b/c)\n",
    "    a-=10\n",
    "    b+=20\n",
    "print(ans)\n",
    "print(a)\n",
    "print(b)"
   ]
  },
  {
   "cell_type": "code",
   "execution_count": null,
   "id": "7d2b099c-c52c-475f-a7ad-f25ee6f084b1",
   "metadata": {},
   "outputs": [],
   "source": [
    "# step 0\n",
    "\n",
    "def log_progress(messege):\n",
    "    with open ('./logs/code_log.txt', 'a') as f:\n",
    "        f.write (f'{datetime.now()}, {messege}.\\n)')"
   ]
  },
  {
   "cell_type": "code",
   "execution_count": 67,
   "id": "a64960d3-b355-4375-b1fa-9d4a00b99d0c",
   "metadata": {},
   "outputs": [],
   "source": [
    "# step 1\n",
    "def extract(url, table_att):\n",
    "    soup = requests.get(url).text\n",
    "    web = BeautifulSoup(soup, 'html.parser')\n",
    "    table = web.find('span', string=table_att).find_next('table')\n",
    "    df = pd.read_html(StringIO(str(table)))[0]\n",
    "                      \n",
    "    log_progress('Data Extracted successfully from the wikipedia')\n",
    "    return df"
   ]
  },
  {
   "cell_type": "code",
   "execution_count": 71,
   "id": "e32edbd6-9b4d-4d31-8a00-315c54c04ede",
   "metadata": {},
   "outputs": [],
   "source": [
    "# step 2\n",
    "def transformation(df, csv_path):\n",
    "    exchange_rate = pd.read_csv(csv_path, index_col = 0).to_dict()['Rate']\n",
    "    \n",
    "    df['MC_GBP_Billion'] = round(df['Market cap (US$ billion)']*exchange_rate['GBP'],2)\n",
    "    df['MC_EUR_Billion'] = round(df['Market cap (US$ billion)']*exchange_rate['EUR'],2)\n",
    "    df['MC_INR_Billion'] = round(df['Market cap (US$ billion)']*exchange_rate['INR'],2)\n",
    "    \n",
    "    print(df['MC_EUR_Billion'][4])\n",
    "    \n",
    "    log_progress('Data Transformation done now, step 2 completed')\n",
    "    \n",
    "    return df"
   ]
  },
  {
   "cell_type": "code",
   "execution_count": 73,
   "id": "e8f522a1-2b8a-477f-bc85-9ca37f8e3864",
   "metadata": {},
   "outputs": [],
   "source": [
    "# step 3 load\n",
    "#CSV\n",
    "def load_to_csv(df, out_path):\n",
    "    df.to_csv(out_path)\n",
    "    \n",
    "    log_progress('Data loaded int the CSV File')"
   ]
  },
  {
   "cell_type": "code",
   "execution_count": 75,
   "id": "86e9a884-2cd8-4641-a279-323f6a734207",
   "metadata": {},
   "outputs": [],
   "source": [
    "# step 3\n",
    "#SQlite\n",
    "def load_to_db(df, sql_conn, tn):\n",
    "    df.to_sql(tn, sql_conn, if_exists=\"replace\", index=False)\n",
    "    \n",
    "    log_progress('Data loaded into the SQLite Database')"
   ]
  },
  {
   "cell_type": "code",
   "execution_count": 77,
   "id": "815a55f4-3548-4ab8-9c95-40eb780adcfd",
   "metadata": {},
   "outputs": [
    {
     "name": "stdout",
     "output_type": "stream",
     "text": [
      "   Rank                                Bank name  Market cap (US$ billion)\n",
      "0     1                           JPMorgan Chase                    432.92\n",
      "1     2                          Bank of America                    231.52\n",
      "2     3  Industrial and Commercial Bank of China                    194.56\n",
      "3     4               Agricultural Bank of China                    160.68\n",
      "4     5                                HDFC Bank                    157.91\n",
      "5     6                              Wells Fargo                    155.87\n",
      "6     7                        HSBC Holdings PLC                    148.90\n",
      "7     8                           Morgan Stanley                    140.83\n",
      "8     9                  China Construction Bank                    139.82\n",
      "9    10                            Bank of China                    136.81\n",
      "146.86\n",
      "   Rank                                Bank name  Market cap (US$ billion)  \\\n",
      "0     1                           JPMorgan Chase                    432.92   \n",
      "1     2                          Bank of America                    231.52   \n",
      "2     3  Industrial and Commercial Bank of China                    194.56   \n",
      "3     4               Agricultural Bank of China                    160.68   \n",
      "4     5                                HDFC Bank                    157.91   \n",
      "5     6                              Wells Fargo                    155.87   \n",
      "6     7                        HSBC Holdings PLC                    148.90   \n",
      "7     8                           Morgan Stanley                    140.83   \n",
      "8     9                  China Construction Bank                    139.82   \n",
      "9    10                            Bank of China                    136.81   \n",
      "\n",
      "   MC_GBP_Billion  MC_EUR_Billion  MC_INR_Billion  \n",
      "0          346.34          402.62        35910.71  \n",
      "1          185.22          215.31        19204.58  \n",
      "2          155.65          180.94        16138.75  \n",
      "3          128.54          149.43        13328.41  \n",
      "4          126.33          146.86        13098.63  \n",
      "5          124.70          144.96        12929.42  \n",
      "6          119.12          138.48        12351.26  \n",
      "7          112.66          130.97        11681.85  \n",
      "8          111.86          130.03        11598.07  \n",
      "9          109.45          127.23        11348.39  \n"
     ]
    }
   ],
   "source": [
    "if __name__ == '__main__':\n",
    "    url = 'https://web.archive.org/web/20230908091635/https://en.wikipedia.org/wiki/List_of_largest_banks'\n",
    "    output_csv_path = './Largest_banks_data.csv'\n",
    "    database_name = 'Banks.db'\n",
    "    table_name = 'Largest_banks'\n",
    "    \n",
    "    log_progress('Preliminaries complete. Initiating ETL process')\n",
    "    \n",
    "    df=extract(url, 'By market capitalization')\n",
    "    log_progress('Extracttion Completed')\n",
    "    print(df)\n",
    "    \n",
    "    df = transformation(df, './input/exchange_rate.csv')\n",
    "    log_progress('Data Transformed successfully')\n",
    "    print(df)\n",
    "    \n",
    "    load_to_csv(df, output_csv_path)\n",
    "    log_progress('DataFrame has been uploaded into CSV file on our PC')\n",
    "    \n",
    "    with sqlite3.connect(database_name) as conn:\n",
    "        load_to_db(df, conn, table_name)\n",
    "    log_progress('DataFrame hass been uploaded into the SQLite Database Successfully')"
   ]
  },
  {
   "cell_type": "code",
   "execution_count": null,
   "id": "e8b46f73-3b46-46b8-882f-b29ff5b7f0e8",
   "metadata": {},
   "outputs": [],
   "source": []
  }
 ],
 "metadata": {
  "kernelspec": {
   "display_name": "Python 3 (ipykernel)",
   "language": "python",
   "name": "python3"
  },
  "language_info": {
   "codemirror_mode": {
    "name": "ipython",
    "version": 3
   },
   "file_extension": ".py",
   "mimetype": "text/x-python",
   "name": "python",
   "nbconvert_exporter": "python",
   "pygments_lexer": "ipython3",
   "version": "3.11.7"
  }
 },
 "nbformat": 4,
 "nbformat_minor": 5
}
